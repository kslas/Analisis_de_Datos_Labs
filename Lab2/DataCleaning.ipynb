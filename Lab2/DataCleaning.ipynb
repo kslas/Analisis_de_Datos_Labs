{
  "cells": [
    {
      "cell_type": "markdown",
      "metadata": {
        "id": "w9jbPkyGS1Sh"
      },
      "source": [
        "#Performing Data Cleaning for Machine Learning with Python"
      ]
    },
    {
      "cell_type": "markdown",
      "metadata": {
        "id": "xI0SUCE1TB3q"
      },
      "source": [
        "Data cleaning is a critically important step in any machine learning project.\n",
        "\n",
        "In tabular data, there are many different statistical analysis and data visualization techniques you can use to explore your data in order to identify data cleaning operations you may want to perform.\n",
        "\n",
        "Before jumping to the sophisticated methods, there are some very basic data cleaning operations that you probably should perform on every single machine learning project. These are so basic that they are often overlooked by seasoned machine learning practitioners, yet are so critical that if skipped, models may break or report overly optimistic performance results.\n",
        "\n",
        "In this tutorial, you will discover basic data cleaning you should always perform on your dataset."
      ]
    },
    {
      "cell_type": "markdown",
      "metadata": {
        "id": "PFHlqGgnTQsB"
      },
      "source": [
        "After completing this tutorial, you will know:\n",
        "\n",
        "* How to identify and remove column variables that only have a single value.\n",
        "* How to identify and consider column variables with very few unique values.\n",
        "* How to identify and remove rows that contain duplicate observations."
      ]
    },
    {
      "cell_type": "markdown",
      "metadata": {
        "id": "0tuOPUMoTofI"
      },
      "source": [
        "## Overview\n",
        "1. Messy Datasets\n",
        "2. Identify Columns That Contain a Single Value\n",
        "3. Delete Columns That Contain a Single Value\n",
        "4. Consider Columns That Have Very Few Values\n",
        "5. Remove Columns That Have A Low Variance\n",
        "6. Identify Rows that Contain Duplicate Data\n",
        "7. Delete Rows that Contain Duplicate Data\n"
      ]
    },
    {
      "cell_type": "markdown",
      "metadata": {
        "id": "-u__-IclUJZi"
      },
      "source": [
        "##Messy Datasets\n",
        "\n",
        "Data cleaning refers to identifying and correcting errors in the dataset that may negatively impact a predictive model.\n",
        "\n",
        "Although critically important, data cleaning is not exciting, not does it involve fancy techniques. Just a good knowledge of the dataset.\n",
        "\n",
        "There are many types of errors that exist in a dataset, although some of the simplest errors include columns that don’t contain much information and duplicated rows.\n",
        "\n",
        "Before we dive into identifying and correcting messy data, let’s define some messy datasets.\n",
        "\n",
        "We will use two datasets as the basis for this tutorial, the oil spill dataset and the iris flowers dataset.\n"
      ]
    },
    {
      "cell_type": "markdown",
      "metadata": {
        "id": "nNJe_wyqUr2h"
      },
      "source": [
        "##Oil Spill Dataset\n",
        "The so-called “oil spill” dataset is a standard machine learning dataset.\n",
        "\n",
        "The task involves predicting whether the patch contains an oil spill or not, e.g. from the illegal or accidental dumping of oil in the ocean, given a vector that describes the contents of a patch of a satellite image.\n",
        "\n",
        "There are 937 cases. Each case is comprised of 48 numerical computer vision derived features, a patch number, and a class label.\n",
        "\n",
        "The normal case is no oil spill assigned the class label of 0, whereas an oil spill is indicated by a class label of 1. There are 896 cases for no oil spill and 41 cases of an oil spill.\n",
        "\n",
        "You can access the entire dataset here:\n",
        "* [Oil Spill Dataset (oil-spill.csv)](https://raw.githubusercontent.com/jbrownlee/Datasets/master/oil-spill.csv)\n",
        "* [Oil Spill Dataset Description (oil-spill.names)](https://raw.githubusercontent.com/jbrownlee/Datasets/master/oil-spill.names)\n",
        "\n",
        "Review the contents of the file.\n",
        "\n",
        "The first few lines of the file should look as follows:"
      ]
    },
    {
      "cell_type": "markdown",
      "metadata": {
        "id": "ElQPBmg8dLLb"
      },
      "source": [
        "\n",
        "\n",
        "```\n",
        "1,2558,1506.09,456.63,90,6395000,40.88,7.89,29780,0.19,214.7,0.21,0.26,0.49,0.1,0.4,99.59,32.19,1.84,0.16,0.2,87.65,0,0.47,132.78,-0.01,3.78,0.22,3.2,-3.71,-0.18,2.19,0,2.19,310,16110,0,138.68,89,69,2850,1000,763.16,135.46,3.73,0,33243.19,65.74,7.95,1\n",
        "2,22325,79.11,841.03,180,55812500,51.11,1.21,61900,0.02,901.7,0.02,0.03,0.11,0.01,0.11,6058.23,4061.15,2.3,0.02,0.02,87.65,0,0.58,132.78,-0.01,3.78,0.84,7.09,-2.21,0,0,0,0,704,40140,0,68.65,89,69,5750,11500,9593.48,1648.8,0.6,0,51572.04,65.73,6.26,0\n",
        "3,115,1449.85,608.43,88,287500,40.42,7.34,3340,0.18,86.1,0.21,0.32,0.5,0.17,0.34,71.2,16.73,1.82,0.19,0.29,87.65,0,0.46,132.78,-0.01,3.78,0.7,4.79,-3.36,-0.23,1.95,0,1.95,29,1530,0.01,38.8,89,69,1400,250,150,45.13,9.33,1,31692.84,65.81,7.84,1\n",
        "4,1201,1562.53,295.65,66,3002500,42.4,7.97,18030,0.19,166.5,0.21,0.26,0.48,0.1,0.38,120.22,33.47,1.91,0.16,0.21,87.65,0,0.48,132.78,-0.01,3.78,0.84,6.78,-3.54,-0.33,2.2,0,2.2,183,10080,0,108.27,89,69,6041.52,761.58,453.21,144.97,13.33,1,37696.21,65.67,8.07,1\n",
        "5,312,950.27,440.86,37,780000,41.43,7.03,3350,0.17,232.8,0.15,0.19,0.35,0.09,0.26,289.19,48.68,1.86,0.13,0.16,87.65,0,0.47,132.78,-0.01,3.78,0.02,2.28,-3.44,-0.44,2.19,0,2.19,45,2340,0,14.39,89,69,1320.04,710.63,512.54,109.16,2.58,0,29038.17,65.66,7.35,0\n",
        "```\n",
        "\n"
      ]
    },
    {
      "cell_type": "markdown",
      "metadata": {
        "id": "mN_8asfgVmRo"
      },
      "source": [
        "We can see that the first column contains integers for the patch number. We can also see that the computer vision derived features are real-valued with differing scales such as thousands in the second column and fractions in other columns.\n",
        "\n",
        "This dataset contains columns with very few unique values that provides a good basis for data cleaning."
      ]
    },
    {
      "cell_type": "markdown",
      "metadata": {
        "id": "o6JvXv0EVphW"
      },
      "source": [
        "##Iris Flowers Dataset\n",
        "The so-called “iris flowers” dataset is another standard machine learning dataset.\n",
        "\n",
        "The dataset involves predicting the flower species given measurements of iris flowers in centimeters.\n",
        "\n",
        "It is a multi-class classification problem. The number of observations for each class is balanced. There are 150 observations with 4 input variables and 1 output variable.\n",
        "\n",
        "You can access the entire dataset here:\n",
        "* [Iris Flowers Dataset (iris.csv)](https://raw.githubusercontent.com/jbrownlee/Datasets/master/iris.csv)\n",
        "* [Iris Flowers Dataset Description (iris.names)](https://raw.githubusercontent.com/jbrownlee/Datasets/master/iris.names)\n",
        "\n",
        "Review the contents of the file.\n",
        "\n",
        "The first few lines of the file should look as follows:"
      ]
    },
    {
      "cell_type": "markdown",
      "metadata": {
        "id": "XsaGQcy3eEqk"
      },
      "source": [
        "```\n",
        "5.1,3.5,1.4,0.2,Iris-setosa\n",
        "4.9,3.0,1.4,0.2,Iris-setosa\n",
        "4.7,3.2,1.3,0.2,Iris-setosa\n",
        "4.6,3.1,1.5,0.2,Iris-setosa\n",
        "5.0,3.6,1.4,0.2,Iris-setosa\n",
        "...\n",
        "```"
      ]
    },
    {
      "cell_type": "markdown",
      "metadata": {
        "id": "LotkCP6FWaOc"
      },
      "source": [
        "We can see that all four input variables are numeric and that the target class variable is a string representing the iris flower species.\n",
        "\n",
        "This dataset contains duplicate rows that provides a good basis for data cleaning."
      ]
    },
    {
      "cell_type": "markdown",
      "metadata": {
        "id": "8e5rKeULWg4B"
      },
      "source": [
        "##Identify Columns That Contain a Single Value\n",
        "Columns that have a single observation or value are probably useless for modeling.\n",
        "\n",
        "These columns or predictors are referred to zero-variance predictors as if we measured the variance (average value from the mean), it would be zero.\n",
        "\n",
        "Here, a single value means that each row for that column has the same value. For example, the column X1 has the value 1.0 for all rows in the dataset:"
      ]
    },
    {
      "cell_type": "markdown",
      "metadata": {
        "id": "zISbKmgMe8O6"
      },
      "source": [
        "```\n",
        "X1\n",
        "1.0\n",
        "1.0\n",
        "1.0\n",
        "1.0\n",
        "1.0\n",
        "...\n",
        "```"
      ]
    },
    {
      "cell_type": "markdown",
      "metadata": {
        "id": "1SN79ELyW6_V"
      },
      "source": [
        "Columns that have a single value for all rows do not contain any information for modeling.\n",
        "\n",
        "Depending on the choice of data preparation and modeling algorithms, variables with a single value can also cause errors or unexpected results.\n",
        "\n",
        "You can detect rows that have this property [using the unique() NumPy function](https://docs.scipy.org/doc/numpy/reference/generated/numpy.unique.html) that will report the number of unique values in each column.\n",
        "\n",
        "The example below loads the oil-spill classification dataset that contains 50 variables and summarizes the number of unique values for each column."
      ]
    },
    {
      "cell_type": "code",
      "execution_count": 1,
      "metadata": {
        "id": "srkEpMK_XH1Z"
      },
      "outputs": [
        {
          "name": "stdout",
          "output_type": "stream",
          "text": [
            "0 238\n",
            "1 297\n",
            "2 927\n",
            "3 933\n",
            "4 179\n",
            "5 375\n",
            "6 820\n",
            "7 618\n",
            "8 561\n",
            "9 57\n",
            "10 577\n",
            "11 59\n",
            "12 73\n",
            "13 107\n",
            "14 53\n",
            "15 91\n",
            "16 893\n",
            "17 810\n",
            "18 170\n",
            "19 53\n",
            "20 68\n",
            "21 9\n",
            "22 1\n",
            "23 92\n",
            "24 9\n",
            "25 8\n",
            "26 9\n",
            "27 308\n",
            "28 447\n",
            "29 392\n",
            "30 107\n",
            "31 42\n",
            "32 4\n",
            "33 45\n",
            "34 141\n",
            "35 110\n",
            "36 3\n",
            "37 758\n",
            "38 9\n",
            "39 9\n",
            "40 388\n",
            "41 220\n",
            "42 644\n",
            "43 649\n",
            "44 499\n",
            "45 2\n",
            "46 937\n",
            "47 169\n",
            "48 286\n",
            "49 2\n"
          ]
        }
      ],
      "source": [
        "# summarize the number of unique values for each column using numpy\n",
        "from urllib.request import urlopen\n",
        "from numpy import loadtxt\n",
        "from numpy import unique\n",
        "# define the location of the dataset\n",
        "path = 'https://raw.githubusercontent.com/jbrownlee/Datasets/master/oil-spill.csv'\n",
        "# load the dataset\n",
        "data = loadtxt(urlopen(path), delimiter=',')\n",
        "# summarize the number of unique values in each column\n",
        "for i in range(data.shape[1]):\n",
        " print(i, len(unique(data[:, i])))"
      ]
    },
    {
      "cell_type": "markdown",
      "metadata": {
        "id": "ozG2IMndXStv"
      },
      "source": [
        "Running the example loads the dataset directly from the URL and prints the number of unique values for each column.\n",
        "\n",
        "We can see that column index 22 only has a single value and should be removed."
      ]
    },
    {
      "cell_type": "markdown",
      "metadata": {
        "id": "2xtQR72kdpKO"
      },
      "source": [
        "```\n",
        "22 1\n",
        "```"
      ]
    },
    {
      "cell_type": "markdown",
      "metadata": {
        "id": "6LC5wgeqX-53"
      },
      "source": [
        "A simpler approach is to use the [nunique() Pandas function](https://pandas.pydata.org/pandas-docs/stable/reference/api/pandas.DataFrame.nunique.html) that does the hard work for you.\n",
        "\n",
        "Below is the same example using the Pandas function.\n",
        "\n"
      ]
    },
    {
      "cell_type": "code",
      "execution_count": 2,
      "metadata": {
        "id": "cK0Kt9UYYSBA"
      },
      "outputs": [
        {
          "name": "stdout",
          "output_type": "stream",
          "text": [
            "0     238\n",
            "1     297\n",
            "2     927\n",
            "3     933\n",
            "4     179\n",
            "5     375\n",
            "6     820\n",
            "7     618\n",
            "8     561\n",
            "9      57\n",
            "10    577\n",
            "11     59\n",
            "12     73\n",
            "13    107\n",
            "14     53\n",
            "15     91\n",
            "16    893\n",
            "17    810\n",
            "18    170\n",
            "19     53\n",
            "20     68\n",
            "21      9\n",
            "22      1\n",
            "23     92\n",
            "24      9\n",
            "25      8\n",
            "26      9\n",
            "27    308\n",
            "28    447\n",
            "29    392\n",
            "30    107\n",
            "31     42\n",
            "32      4\n",
            "33     45\n",
            "34    141\n",
            "35    110\n",
            "36      3\n",
            "37    758\n",
            "38      9\n",
            "39      9\n",
            "40    388\n",
            "41    220\n",
            "42    644\n",
            "43    649\n",
            "44    499\n",
            "45      2\n",
            "46    937\n",
            "47    169\n",
            "48    286\n",
            "49      2\n",
            "dtype: int64\n"
          ]
        }
      ],
      "source": [
        "# summarize the number of unique values for each column using numpy\n",
        "from pandas import read_csv\n",
        "# define the location of the dataset\n",
        "path = 'https://raw.githubusercontent.com/jbrownlee/Datasets/master/oil-spill.csv'\n",
        "# load the dataset\n",
        "df = read_csv(path, header=None)\n",
        "# summarize the number of unique values in each column\n",
        "print(df.nunique())"
      ]
    },
    {
      "cell_type": "markdown",
      "metadata": {
        "id": "N_Y2KbNwYnBA"
      },
      "source": [
        "##Delete Columns That Contain a Single Value\n",
        "Variables or columns that have a single value should probably be removed from your dataset.\n",
        "\n",
        "Columns are relatively easy to remove from a NumPy array or Pandas DataFrame.\n",
        "\n",
        "One approach is to record all columns that have a single unique value, then delete them from the Pandas DataFrame by calling the [drop() function](https://pandas.pydata.org/pandas-docs/stable/reference/api/pandas.DataFrame.drop.html).\n",
        "\n",
        "The complete example is listed below."
      ]
    },
    {
      "cell_type": "code",
      "execution_count": 3,
      "metadata": {
        "colab": {
          "base_uri": "https://localhost:8080/"
        },
        "id": "D2p6c0qhZAYw",
        "outputId": "52d1a723-594b-48df-ae52-1633a845aaa1"
      },
      "outputs": [
        {
          "name": "stdout",
          "output_type": "stream",
          "text": [
            "(937, 50)\n",
            "[22]\n",
            "(937, 49)\n"
          ]
        }
      ],
      "source": [
        "# delete columns with a single unique value\n",
        "from pandas import read_csv\n",
        "# define the location of the dataset\n",
        "path = 'https://raw.githubusercontent.com/jbrownlee/Datasets/master/oil-spill.csv'\n",
        "# load the dataset\n",
        "df = read_csv(path, header=None)\n",
        "print(df.shape)\n",
        "# get number of unique values for each column\n",
        "counts = df.nunique()\n",
        "# record columns to delete\n",
        "to_del = [i for i,v in enumerate(counts) if v == 1]\n",
        "print(to_del)\n",
        "# drop useless columns\n",
        "df.drop(to_del, axis=1, inplace=True)\n",
        "print(df.shape)"
      ]
    },
    {
      "cell_type": "markdown",
      "metadata": {
        "id": "6Yq57bE4ZHOc"
      },
      "source": [
        "Running the example first loads the dataset and reports the number of rows and columns.\n",
        "\n",
        "The number of unique values for each column is calculated, and those columns that have a single unique value are identified. In this case, column index 22.\n",
        "\n",
        "The identified columns are then removed from the DataFrame, and the number of rows and columns in the DataFrame are reported to confirm the change."
      ]
    },
    {
      "cell_type": "markdown",
      "metadata": {
        "id": "uiUJOMrvZSqK"
      },
      "source": [
        "##Consider Columns That Have Very Few Values\n",
        "In the previous section, we saw that some columns in the example dataset had very few unique values.\n",
        "\n",
        "For example, there were columns that only had 2, 4, and 9 unique values. This might make sense for ordinal or categorical variables. In this case, the dataset only contains numerical variables. As such, only having 2, 4, or 9 unique numerical values in a column might be surprising.\n",
        "\n",
        "We can refer to these columns or predictors as near-zero variance predictors, as their variance is not zero, but a very small number close to zero.\n",
        "\n",
        "These columns may or may not contribute to the skill of a model. We can’t assume that they are useless to modeling.\n",
        "\n",
        "Depending on the choice of data preparation and modeling algorithms, variables with very few numerical values can also cause errors or unexpected results. For example, I have seen them cause errors when using power transforms for data preparation and when fitting linear models that assume a “sensible” data probability distribution.\n",
        "\n",
        "To help highlight columns of this type, you can calculate the number of unique values for each variable as a percentage of the total number of rows in the dataset.\n",
        "\n",
        "Let’s do this manually using NumPy. The complete example is listed below."
      ]
    },
    {
      "cell_type": "code",
      "execution_count": 4,
      "metadata": {
        "id": "XwOO9QZvZy9f"
      },
      "outputs": [
        {
          "name": "stdout",
          "output_type": "stream",
          "text": [
            "0, 238, 25.4%\n",
            "1, 297, 31.7%\n",
            "2, 927, 98.9%\n",
            "3, 933, 99.6%\n",
            "4, 179, 19.1%\n",
            "5, 375, 40.0%\n",
            "6, 820, 87.5%\n",
            "7, 618, 66.0%\n",
            "8, 561, 59.9%\n",
            "9, 57, 6.1%\n",
            "10, 577, 61.6%\n",
            "11, 59, 6.3%\n",
            "12, 73, 7.8%\n",
            "13, 107, 11.4%\n",
            "14, 53, 5.7%\n",
            "15, 91, 9.7%\n",
            "16, 893, 95.3%\n",
            "17, 810, 86.4%\n",
            "18, 170, 18.1%\n",
            "19, 53, 5.7%\n",
            "20, 68, 7.3%\n",
            "21, 9, 1.0%\n",
            "22, 1, 0.1%\n",
            "23, 92, 9.8%\n",
            "24, 9, 1.0%\n",
            "25, 8, 0.9%\n",
            "26, 9, 1.0%\n",
            "27, 308, 32.9%\n",
            "28, 447, 47.7%\n",
            "29, 392, 41.8%\n",
            "30, 107, 11.4%\n",
            "31, 42, 4.5%\n",
            "32, 4, 0.4%\n",
            "33, 45, 4.8%\n",
            "34, 141, 15.0%\n",
            "35, 110, 11.7%\n",
            "36, 3, 0.3%\n",
            "37, 758, 80.9%\n",
            "38, 9, 1.0%\n",
            "39, 9, 1.0%\n",
            "40, 388, 41.4%\n",
            "41, 220, 23.5%\n",
            "42, 644, 68.7%\n",
            "43, 649, 69.3%\n",
            "44, 499, 53.3%\n",
            "45, 2, 0.2%\n",
            "46, 937, 100.0%\n",
            "47, 169, 18.0%\n",
            "48, 286, 30.5%\n",
            "49, 2, 0.2%\n"
          ]
        }
      ],
      "source": [
        "# summarize the percentage of unique values for each column using numpy\n",
        "from urllib.request import urlopen\n",
        "from numpy import loadtxt\n",
        "from numpy import unique\n",
        "# define the location of the dataset\n",
        "path = 'https://raw.githubusercontent.com/jbrownlee/Datasets/master/oil-spill.csv'\n",
        "# load the dataset\n",
        "data = loadtxt(urlopen(path), delimiter=',')\n",
        "# summarize the number of unique values in each column\n",
        "for i in range(data.shape[1]):\n",
        " num = len(unique(data[:, i]))\n",
        " percentage = float(num) / data.shape[0] * 100\n",
        " print('%d, %d, %.1f%%' % (i, num, percentage))"
      ]
    },
    {
      "cell_type": "markdown",
      "metadata": {
        "id": "v-K1ZRuhZ_so"
      },
      "source": [
        "Running the example reports the column index and the number of unique values for each column, followed by the percentage of unique values out of all rows in the dataset.\n",
        "\n",
        "Here, we can see that some columns have a very low percentage of unique values, such as below 1 percent.\n",
        "\n",
        "We can update the example to only summarize those variables that have unique values that are less than 1 percent of the number of rows."
      ]
    },
    {
      "cell_type": "code",
      "execution_count": 6,
      "metadata": {
        "id": "joF40CK3aH3Z"
      },
      "outputs": [
        {
          "name": "stdout",
          "output_type": "stream",
          "text": [
            "21, 9, 1.0%\n",
            "22, 1, 0.1%\n",
            "24, 9, 1.0%\n",
            "25, 8, 0.9%\n",
            "26, 9, 1.0%\n",
            "32, 4, 0.4%\n",
            "36, 3, 0.3%\n",
            "38, 9, 1.0%\n",
            "39, 9, 1.0%\n",
            "45, 2, 0.2%\n",
            "49, 2, 0.2%\n"
          ]
        }
      ],
      "source": [
        "# summarize the percentage of unique values for each column using numpy\n",
        "from urllib.request import urlopen\n",
        "from numpy import loadtxt\n",
        "from numpy import unique\n",
        "# define the location of the dataset\n",
        "path = 'https://raw.githubusercontent.com/jbrownlee/Datasets/master/oil-spill.csv'\n",
        "# load the dataset\n",
        "data = loadtxt(urlopen(path), delimiter=',')\n",
        "# summarize the number of unique values in each column\n",
        "for i in range(data.shape[1]):\n",
        " num = len(unique(data[:, i]))\n",
        " percentage = float(num) / data.shape[0] * 100\n",
        " if percentage < 1:\n",
        "   print('%d, %d, %.1f%%' % (i, num, percentage))"
      ]
    },
    {
      "cell_type": "markdown",
      "metadata": {
        "id": "QbkE7hyNaa_0"
      },
      "source": [
        "Running the example, we can see that 11 of the 50 variables have numerical variables that have unique values that are less than 1 percent of the number of rows.\n",
        "\n",
        "This does not mean that these rows and columns should be deleted, but they require further attention.\n",
        "\n",
        "For example:\n",
        "\n",
        "* Perhaps the unique values can be encoded as ordinal values?\n",
        "* Perhaps the unique values can be encoded as categorical values?\n",
        "* Perhaps compare model skill with each variable removed from the dataset?\n",
        "\n",
        "For example, if we wanted to delete all 11 columns with unique values less than 1 percent of rows; the example below demonstrates this."
      ]
    },
    {
      "cell_type": "code",
      "execution_count": 7,
      "metadata": {
        "id": "wGqY6TtPam2H"
      },
      "outputs": [
        {
          "name": "stdout",
          "output_type": "stream",
          "text": [
            "(937, 50)\n",
            "[21, 22, 24, 25, 26, 32, 36, 38, 39, 45, 49]\n",
            "(937, 39)\n"
          ]
        }
      ],
      "source": [
        "# delete columns where number of unique values is less than 1% of the rows\n",
        "from pandas import read_csv\n",
        "# define the location of the dataset\n",
        "path = 'https://raw.githubusercontent.com/jbrownlee/Datasets/master/oil-spill.csv'\n",
        "# load the dataset\n",
        "df = read_csv(path, header=None)\n",
        "print(df.shape)\n",
        "# get number of unique values for each column\n",
        "counts = df.nunique()\n",
        "# record columns to delete\n",
        "to_del = [i for i,v in enumerate(counts) if (float(v)/df.shape[0]*100) < 1]\n",
        "print(to_del)\n",
        "# drop useless columns\n",
        "df.drop(to_del, axis=1, inplace=True)\n",
        "print(df.shape)"
      ]
    },
    {
      "cell_type": "markdown",
      "metadata": {
        "id": "F7T1U8G8a5I2"
      },
      "source": [
        "Running the example first loads the dataset and reports the number of rows and columns.\n",
        "\n",
        "The number of unique values for each column is calculated, and those columns that have a number of unique values less than 1 percent of the rows are identified. In this case, 11 columns.\n",
        "\n",
        "The identified columns are then removed from the DataFrame, and the number of rows and columns in the DataFrame are reported to confirm the change."
      ]
    },
    {
      "cell_type": "markdown",
      "metadata": {
        "id": "g-Zo-KKPbArN"
      },
      "source": [
        "##Remove Columns That Have A Low Variance\n",
        "Another approach to the problem of removing columns with few unique values is to consider the variance of the column.\n",
        "\n",
        "Recall that the [variance](https://en.wikipedia.org/wiki/Variance) is a statistic calculated on a variable as the average squared difference of values on the sample from the mean.\n",
        "\n",
        "The variance can be used as a filter for identifying columns to removed from the dataset. A column that has a single value has a variance of 0.0, and a column that has very few unique values will have a small variance value.\n",
        "\n",
        "The [VarianceThreshold](https://scikit-learn.org/stable/modules/generated/sklearn.feature_selection.VarianceThreshold.html) class from the scikit-learn library supports this as a type of feature selection. An instance of the class can be created specify the “threshold” argument, which defaults to 0.0 to remove columns with a single value.\n",
        "\n",
        "It can then be fit and applied to a dataset by calling the fit_transform() function to create a transformed version of the dataset where the columns that have a variance lower than the threshold have been removed automatically.\n",
        "\n",
        "```\n",
        "...\n",
        "# define the transform\n",
        "transform = VarianceThreshold()\n",
        "# transform the input data\n",
        "X_sel = transform.fit_transform(X)\n",
        "```\n",
        "We can demonstrate this on the oil spill dataset as follows:"
      ]
    },
    {
      "cell_type": "code",
      "execution_count": 8,
      "metadata": {
        "colab": {
          "base_uri": "https://localhost:8080/"
        },
        "id": "MCLUIREbflHP",
        "outputId": "36b59ccb-5ba5-4759-8e59-1ec1ee8c8314"
      },
      "outputs": [
        {
          "name": "stdout",
          "output_type": "stream",
          "text": [
            "(937, 49) (937,)\n",
            "(937, 48)\n"
          ]
        }
      ],
      "source": [
        "# example of apply the variance threshold\n",
        "from pandas import read_csv\n",
        "from sklearn.feature_selection import VarianceThreshold\n",
        "# define the location of the dataset\n",
        "path = 'https://raw.githubusercontent.com/jbrownlee/Datasets/master/oil-spill.csv'\n",
        "# load the dataset\n",
        "df = read_csv(path, header=None)\n",
        "# split data into inputs and outputs\n",
        "data = df.values\n",
        "X = data[:, :-1]\n",
        "y = data[:, -1]\n",
        "print(X.shape, y.shape)\n",
        "# define the transform\n",
        "transform = VarianceThreshold()\n",
        "# transform the input data\n",
        "X_sel = transform.fit_transform(X)\n",
        "print(X_sel.shape)"
      ]
    },
    {
      "cell_type": "markdown",
      "metadata": {
        "id": "FVWLay9xf1qf"
      },
      "source": [
        "Running the example first loads the dataset, then applies the transform to remove all columns with a variance of 0.0.\n",
        "\n",
        "The shape of the dataset is reported before and after the transform, and we can see that the single column where all values are the same has been removed.\n",
        "\n",
        "We can expand this example and see what happens when we use different thresholds.\n",
        "\n",
        "We can define a sequence of thresholds from 0.0 to 0.5 with a step size of 0.05, e.g. 0.0, 0.05, 0.1, etc.\n",
        "\n",
        "\n",
        "```\n",
        "...\n",
        "# define thresholds to check\n",
        "thresholds = arange(0.0, 0.55, 0.05)\n",
        "```\n",
        "We can then report the number of features in the transformed dataset for each given threshold.\n",
        "\n",
        "\n",
        "```\n",
        "...\n",
        "# apply transform with each threshold\n",
        "results = list()\n",
        "for t in thresholds:\n",
        " # define the transform\n",
        " transform = VarianceThreshold(threshold=t)\n",
        " # transform the input data\n",
        " X_sel = transform.fit_transform(X)\n",
        " # determine the number of input features\n",
        " n_features = X_sel.shape[1]\n",
        " print('>Threshold=%.2f, Features=%d' % (t, n_features))\n",
        " # store the result\n",
        " results.append(n_features)\n",
        "```\n",
        "\n",
        "Finally, we can plot the results.\n",
        "\n",
        "Tying this together, the complete example of comparing variance threshold to the number of selected features is listed below.\n",
        "\n"
      ]
    },
    {
      "cell_type": "code",
      "execution_count": 9,
      "metadata": {
        "id": "Lqhx_v2lgcj-"
      },
      "outputs": [
        {
          "name": "stdout",
          "output_type": "stream",
          "text": [
            "(937, 49) (937,)\n",
            ">Threshold=0.00, Features=48\n",
            ">Threshold=0.05, Features=37\n",
            ">Threshold=0.10, Features=36\n",
            ">Threshold=0.15, Features=35\n",
            ">Threshold=0.20, Features=35\n",
            ">Threshold=0.25, Features=35\n",
            ">Threshold=0.30, Features=35\n",
            ">Threshold=0.35, Features=35\n",
            ">Threshold=0.40, Features=35\n",
            ">Threshold=0.45, Features=33\n",
            ">Threshold=0.50, Features=31\n"
          ]
        },
        {
          "data": {
            "image/png": "[encoded data removed]",
            "text/plain": [
              "<Figure size 640x480 with 1 Axes>"
            ]
          },
          "metadata": {},
          "output_type": "display_data"
        }
      ],
      "source": [
        "# explore the effect of the variance thresholds on the number of selected features\n",
        "from numpy import arange\n",
        "from pandas import read_csv\n",
        "from sklearn.feature_selection import VarianceThreshold\n",
        "from matplotlib import pyplot\n",
        "# define the location of the dataset\n",
        "path = 'https://raw.githubusercontent.com/jbrownlee/Datasets/master/oil-spill.csv'\n",
        "# load the dataset\n",
        "df = read_csv(path, header=None)\n",
        "# split data into inputs and outputs\n",
        "data = df.values\n",
        "X = data[:, :-1]\n",
        "y = data[:, -1]\n",
        "print(X.shape, y.shape)\n",
        "# define thresholds to check\n",
        "thresholds = arange(0.0, 0.55, 0.05)\n",
        "# apply transform with each threshold\n",
        "results = list()\n",
        "for t in thresholds:\n",
        " # define the transform\n",
        " transform = VarianceThreshold(threshold=t)\n",
        " # transform the input data\n",
        " X_sel = transform.fit_transform(X)\n",
        " # determine the number of input features\n",
        " n_features = X_sel.shape[1]\n",
        " print('>Threshold=%.2f, Features=%d' % (t, n_features))\n",
        " # store the result\n",
        " results.append(n_features)\n",
        "# plot the threshold vs the number of selected features\n",
        "pyplot.plot(thresholds, results)\n",
        "pyplot.show()"
      ]
    },
    {
      "cell_type": "markdown",
      "metadata": {
        "id": "0qbsaVULguSA"
      },
      "source": [
        "Running the example first loads the data and confirms that the raw dataset has 49 columns.\n",
        "\n",
        "Next, the VarianceThreshold is applied to the raw dataset with values from 0.0 to 0.5 and the number of remaining features after the transform is applied are reported.\n",
        "\n",
        "We can see that the number of features in the dataset quickly drops from 49 in the unchanged data down to 35 with a threshold of 0.15. It later drops to 31 (18 columns deleted) with a threshold of 0.5.\n",
        "\n",
        "A line plot is then created showing the relationship between the threshold and the number of features in the transformed dataset.\n",
        "\n",
        "We can see that even with a small threshold between 0.15 and 0.4, that a large number of features (14) are removed immediately."
      ]
    },
    {
      "cell_type": "markdown",
      "metadata": {
        "id": "RRUNvcezhBSq"
      },
      "source": [
        "##Identify Rows That Contain Duplicate Data\n",
        "\n",
        "Rows that have identical data are probably useless, if not dangerously misleading during model evaluation.\n",
        "\n",
        "Here, a duplicate row is a row where each value in each column for that row appears in identically the same order (same column values) in another row.\n",
        "\n",
        "From a probabilistic perspective, you can think of duplicate data as adjusting the priors for a class label or data distribution. This may help an algorithm like [Naive Bayes](https://machinelearningmastery.com/naive-bayes-classifier-scratch-python/) if you wish to purposefully bias the priors. Typically, this is not the case and machine learning algorithms will perform better by identifying and removing rows with duplicate data.\n",
        "\n",
        "From an algorithm evaluation perspective, duplicate rows will result in misleading performance. For example, if you are using a train/test split or [k-fold cross-validation](https://machinelearningmastery.com/k-fold-cross-validation/), then it is possible for a duplicate row or rows to appear in both train and test datasets and any evaluation of the model on these rows will be (or should be) correct. This will result in an optimistically biased estimate of performance on unseen data.\n",
        "\n",
        "If you think this is not the case for your dataset or chosen model, design a controlled experiment to test it. This could be achieved by evaluating model skill with the raw dataset and the dataset with duplicates removed and comparing performance. Another experiment might involve augmenting the dataset with different numbers of randomly selected duplicate examples.\n",
        "\n",
        "The pandas function duplicated() will report whether a given row is duplicated or not. All rows are marked as either False to indicate that it is not a duplicate or True to indicate that it is a duplicate. If there are duplicates, the first occurrence of the row is marked False (by default), as we might expect.\n",
        "\n",
        "The example below checks for duplicates."
      ]
    },
    {
      "cell_type": "code",
      "execution_count": 10,
      "metadata": {
        "colab": {
          "base_uri": "https://localhost:8080/"
        },
        "id": "H6JUXDgth483",
        "outputId": "517c3576-ca9c-4f0b-f1be-9b8e211db64f"
      },
      "outputs": [
        {
          "name": "stdout",
          "output_type": "stream",
          "text": [
            "True\n",
            "       0    1    2    3               4\n",
            "34   4.9  3.1  1.5  0.1     Iris-setosa\n",
            "37   4.9  3.1  1.5  0.1     Iris-setosa\n",
            "142  5.8  2.7  5.1  1.9  Iris-virginica\n"
          ]
        }
      ],
      "source": [
        "# locate rows of duplicate data\n",
        "from pandas import read_csv\n",
        "# define the location of the dataset\n",
        "path = 'https://raw.githubusercontent.com/jbrownlee/Datasets/master/iris.csv'\n",
        "# load the dataset\n",
        "df = read_csv(path, header=None)\n",
        "# calculate duplicates\n",
        "dups = df.duplicated()\n",
        "# report if there are any duplicates\n",
        "print(dups.any())\n",
        "# list all duplicate rows\n",
        "print(df[dups])"
      ]
    },
    {
      "cell_type": "markdown",
      "metadata": {
        "id": "zY-YZjLpiAVh"
      },
      "source": [
        "Running the example first loads the dataset, then calculates row duplicates.\n",
        "\n",
        "First, the presence of any duplicate rows is reported, and in this case, we can see that there are duplicates (True).\n",
        "\n",
        "Then all duplicate rows are reported. In this case, we can see that three duplicate rows that were identified are printed."
      ]
    },
    {
      "cell_type": "markdown",
      "metadata": {
        "id": "GfRsXQyNiDOO"
      },
      "source": [
        "##Delete Rows That Contain Duplicate Data\n",
        "Rows of duplicate data should probably be deleted from your dataset prior to modeling.\n",
        "\n",
        "There are many ways to achieve this, although Pandas provides the [drop_duplicates()](https://pandas.pydata.org/pandas-docs/stable/reference/api/pandas.DataFrame.drop_duplicates.html) function that achieves exactly this.\n",
        "\n",
        "The example below demonstrates deleting duplicate rows from a dataset."
      ]
    },
    {
      "cell_type": "code",
      "execution_count": 11,
      "metadata": {
        "colab": {
          "base_uri": "https://localhost:8080/"
        },
        "id": "rPYsLPPBiZM1",
        "outputId": "20aca02c-16e1-4759-eb90-a0572ea1ff69"
      },
      "outputs": [
        {
          "name": "stdout",
          "output_type": "stream",
          "text": [
            "(150, 5)\n",
            "(147, 5)\n"
          ]
        }
      ],
      "source": [
        "# delete rows of duplicate data from the dataset\n",
        "from pandas import read_csv\n",
        "# define the location of the dataset\n",
        "path = 'https://raw.githubusercontent.com/jbrownlee/Datasets/master/iris.csv'\n",
        "# load the dataset\n",
        "df = read_csv(path, header=None)\n",
        "print(df.shape)\n",
        "# delete duplicate rows\n",
        "df.drop_duplicates(inplace=True)\n",
        "print(df.shape)"
      ]
    },
    {
      "cell_type": "markdown",
      "metadata": {
        "id": "8DTMPXrrignv"
      },
      "source": [
        "Running the example first loads the dataset and reports the number of rows and columns.\n",
        "\n",
        "Next, the rows of duplicated data are identified and removed from the DataFrame. Then the shape of the DataFrame is reported to confirm the change."
      ]
    },
    {
      "cell_type": "markdown",
      "metadata": {
        "id": "AUnvcBy2jUqt"
      },
      "source": [
        "#Fuentes\n",
        "\n",
        "* Este contenido fue tomado del tutorial [\"How to Perform Data Cleaning for Machine Learning with Python\"](https://machinelearningmastery.com/basic-data-cleaning-for-machine-learning/) por Jason Brownlee en [https://machinelearningmastery.com](https://machinelearningmastery.com)\n",
        "\n",
        "* Adaptaciones menores hechas para nuestro curso."
      ]
    }
  ],
  "metadata": {
    "colab": {
      "provenance": []
    },
    "kernelspec": {
      "display_name": "Python 3",
      "name": "python3"
    },
    "language_info": {
      "codemirror_mode": {
        "name": "ipython",
        "version": 3
      },
      "file_extension": ".py",
      "mimetype": "text/x-python",
      "name": "python",
      "nbconvert_exporter": "python",
      "pygments_lexer": "ipython3",
      "version": "3.10.7"
    }
  },
  "nbformat": 4,
  "nbformat_minor": 0
}
